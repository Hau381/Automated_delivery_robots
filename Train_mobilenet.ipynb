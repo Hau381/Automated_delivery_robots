{
  "cells": [
    {
      "cell_type": "markdown",
      "metadata": {
        "id": "view-in-github",
        "colab_type": "text"
      },
      "source": [
        "<a href=\"https://colab.research.google.com/github/Hau381/Automated_delivery_robots/blob/main/Train_mobilenet.ipynb\" target=\"_parent\"><img src=\"https://colab.research.google.com/assets/colab-badge.svg\" alt=\"Open In Colab\"/></a>"
      ]
    },
    {
      "cell_type": "code",
      "execution_count": null,
      "metadata": {
        "id": "zzXNqyJXoDi0"
      },
      "outputs": [],
      "source": [
        "from google.colab import drive\n",
        "\n",
        "%cd drive/MyDrive/Data"
      ]
    },
    {
      "cell_type": "code",
      "execution_count": null,
      "metadata": {
        "colab": {
          "base_uri": "https://localhost:8080/"
        },
        "id": "A8-GeaGep3O0",
        "outputId": "c957b774-a7e7-4215-df65-e070b00d1aff"
      },
      "outputs": [
        {
          "name": "stdout",
          "output_type": "stream",
          "text": [
            "Sample file =  /content/drive/MyDrive/Data/images/1_202.png\n",
            "Total file =  340\n",
            "Total train file =  306\n"
          ]
        }
      ],
      "source": [
        "\n",
        "import os\n",
        "import glob\n",
        "import random\n",
        "import shutil\n",
        "\n",
        "raw_data_path = \"/content/drive/MyDrive/Data/images\"\n",
        "train_data_path = \"/content/drive/MyDrive/Data/split_data/train\"\n",
        "test_data_path = \"/content/drive/MyDrive/Data/split_data/test\"\n",
        "\n",
        "if not os.path.exists(\"/content/drive/MyDrive/Data/split_data\"):\n",
        "  os.mkdir(\"/content/drive/MyDrive/Data/split_data\")\n",
        "  \n",
        "try:\n",
        "  shutil.rmtree(train_data_path)\n",
        "  shutil.rmtree(test_data_path)\n",
        "except:\n",
        "  pass\n",
        "\n",
        "os.mkdir(train_data_path)\n",
        "os.mkdir(test_data_path)\n",
        "\n",
        "total_files = glob.glob(raw_data_path + \"/*.png\")\n",
        "print(\"Sample file = \", total_files[0])\n",
        "print(\"Total file = \", len(total_files))\n",
        "\n",
        "indices = list(range(len(total_files)))\n",
        "train_indices = random.sample(indices, k = int(len(total_files)*0.9))\n",
        "print(\"Total train file = \", len(train_indices))\n",
        "\n",
        "for i in indices:\n",
        "  try:\n",
        "      if (i in train_indices):\n",
        "        # Copy to train\n",
        "        shutil.copy(total_files[i], train_data_path + total_files[i].replace(raw_data_path,\"\"))\n",
        "        shutil.copy(total_files[i].replace(\"images\",\"labels\").replace(\".png\",\".xml\"),\n",
        "                    train_data_path + total_files[i].replace(raw_data_path, \"\").replace(\".png\",\".xml\"))\n",
        "      else:\n",
        "        # Copy to test\n",
        "        \n",
        "          shutil.copy(total_files[i], test_data_path + total_files[i].replace(raw_data_path, \"\"))\n",
        "          shutil.copy(total_files[i].replace(\"images\", \"labels\").replace(\".png\", \".xml\"),\n",
        "                    test_data_path + total_files[i].replace(raw_data_path, \"\").replace(\".png\",\".xml\"))\n",
        "  except:\n",
        "      os.remove(total_files[i])\n",
        "      print (total_files[i])"
      ]
    },
    {
      "cell_type": "code",
      "execution_count": null,
      "metadata": {
        "colab": {
          "base_uri": "https://localhost:8080/"
        },
        "id": "nvLy7-PB3Kxl",
        "outputId": "09bc30e2-bf5e-429c-e13a-78bbac505907"
      },
      "outputs": [
        {
          "name": "stdout",
          "output_type": "stream",
          "text": [
            "Successfully converted xml to csv.\n",
            "Successfully converted xml to csv.\n"
          ]
        }
      ],
      "source": [
        "# 3.Convert XML label sang CSV. File CSV lưu trong thư mục split_data\n",
        "import os\n",
        "import glob\n",
        "import pandas as pd\n",
        "import xml.etree.ElementTree as ET\n",
        "\n",
        "\n",
        "def xml_to_csv(path):\n",
        "    xml_list = []\n",
        "    for xml_file in glob.glob(path + '/*.xml'):\n",
        "        tree = ET.parse(xml_file)\n",
        "        root = tree.getroot()\n",
        "        for member in root.findall('object'):\n",
        "            value = (root.find('filename').text,\n",
        "                     int(root.find('size')[0].text),\n",
        "                     int(root.find('size')[1].text),\n",
        "                     member[0].text,\n",
        "                     int(member[4][0].text),\n",
        "                     int(member[4][1].text),\n",
        "                     int(member[4][2].text),\n",
        "                     int(member[4][3].text)\n",
        "                     )\n",
        "            xml_list.append(value)\n",
        "    column_name = ['filename', 'width', 'height', 'class', 'xmin', 'ymin', 'xmax', 'ymax']\n",
        "    xml_df = pd.DataFrame(xml_list, columns=column_name)\n",
        "    return xml_df\n",
        "\n",
        "for directory in ['train','test']:\n",
        "        image_path = os.path.join('/content/drive/MyDrive/Data/split_data/{}'.format(directory))\n",
        "        xml_df = xml_to_csv(image_path)\n",
        "        xml_df.to_csv('/content/drive/MyDrive/Data/split_data/{}_labels.csv'.format(directory), index=None)\n",
        "        print('Successfully converted xml to csv.')"
      ]
    },
    {
      "cell_type": "code",
      "execution_count": null,
      "metadata": {
        "colab": {
          "base_uri": "https://localhost:8080/"
        },
        "id": "bk-TlE6j3Zus",
        "outputId": "2bfaa108-dece-44ee-90aa-df3e278314e7"
      },
      "outputs": [
        {
          "name": "stdout",
          "output_type": "stream",
          "text": [
            "/content/drive/MyDrive\n",
            "Cloning into 'models'...\n",
            "remote: Enumerating objects: 81524, done.\u001b[K\n",
            "remote: Counting objects: 100% (330/330), done.\u001b[K\n",
            "remote: Compressing objects: 100% (179/179), done.\u001b[K\n",
            "remote: Total 81524 (delta 170), reused 299 (delta 151), pack-reused 81194\u001b[K\n",
            "Receiving objects: 100% (81524/81524), 596.24 MiB | 13.23 MiB/s, done.\n",
            "Resolving deltas: 100% (58094/58094), done.\n",
            "Updating files: 100% (3351/3351), done.\n"
          ]
        }
      ],
      "source": [
        "# 4. Tải TF Object Detection APi vào thư mục models\n",
        "%cd /content/drive/MyDrive\n",
        "!git clone https://github.com/tensorflow/models.git"
      ]
    },
    {
      "cell_type": "code",
      "execution_count": null,
      "metadata": {
        "colab": {
          "base_uri": "https://localhost:8080/"
        },
        "id": "0FeHUcv74EEV",
        "outputId": "11012e57-776b-4be7-e612-93bddcc6b7fe"
      },
      "outputs": [
        {
          "name": "stdout",
          "output_type": "stream",
          "text": [
            "/content/drive/MyDrive/models/research\n"
          ]
        }
      ],
      "source": [
        "# 5. Compile the protos -  \n",
        "# Protocol Buffers (Protobuf) is a free and open-source cross-platform data format used to serialize structured data.\n",
        "%cd /content/drive/MyDrive/models/research\n",
        "!protoc object_detection/protos/*.proto --python_out=."
      ]
    },
    {
      "cell_type": "code",
      "execution_count": null,
      "metadata": {
        "id": "O-_k-XTy4Odb"
      },
      "outputs": [],
      "source": [
        "# 6. Cài dặt API\n",
        "%cd /content/drive/MyDrive/models/research\n",
        "!cp object_detection/packages/tf2/setup.py . \n",
        "!python -m pip install ."
      ]
    },
    {
      "cell_type": "code",
      "execution_count": null,
      "metadata": {
        "id": "RkBQGGqb4is9"
      },
      "outputs": [],
      "source": [
        "!python object_detection/builders/model_builder_tf2_test.py"
      ]
    },
    {
      "cell_type": "code",
      "execution_count": null,
      "metadata": {
        "id": "pWFCCxuW45dQ"
      },
      "outputs": [],
      "source": [
        "# 8. CSV to TFRecord. With help from MiAI git hub\n",
        "%cd /content/drive/MyDrive/models/research\n",
        "!git clone https://github.com/thangnch/MiAI_SSD_TF2\n",
        "!cp MiAI_SSD_TF2/generate_tfrecord.py .\n",
        "!cp MiAI_SSD_TF2/label_map.txt /content/drive/MyDrive/Data\n",
        "\n",
        "if not os.path.exists(\"/content/drive/MyDrive/Data/tfrecord_data/\"):\n",
        "  os.mkdir(\"/content/drive/MyDrive/Data/tfrecord_data/\")\n",
        "\n",
        "!python generate_tfrecord.py --image_dir=/content/drive/MyDrive/Data/split_data/train --csv_input=/content/drive/MyDrive/Data/split_data/train_labels.csv --output_path=/content/drive/MyDrive/Data/tfrecord_data/train.record \n",
        "!python generate_tfrecord.py --image_dir=/content/drive/MyDrive/Data/split_data/test --csv_input=/content/drive/MyDrive/Data/split_data/test_labels.csv --output_path=/content/drive/MyDrive/Data/tfrecord_data/test.record \n",
        "\n",
        " "
      ]
    },
    {
      "cell_type": "code",
      "execution_count": null,
      "metadata": {
        "id": "SquI_hCQ6zAP"
      },
      "outputs": [],
      "source": [
        "# 9. Download pretrain and config\n",
        "if not os.path.exists(\"/content/drive/MyDrive/pretrained\"):\n",
        "  os.mkdir(\"/content/drive/MyDrive/pretrained\")\n",
        "\n",
        "%cd /content/drive/MyDrive/pretrained\n",
        "!wget http://download.tensorflow.org/models/object_detection/tf2/20200711/ssd_mobilenet_v2_fpnlite_320x320_coco17_tpu-8.tar.gz\n",
        "# Unzip\n",
        "!tar -xzvf ssd_mobilenet_v2_fpnlite_320x320_coco17_tpu-8.tar.gz\n"
      ]
    },
    {
      "cell_type": "code",
      "execution_count": null,
      "metadata": {
        "id": "pYXBy--I6-m7"
      },
      "outputs": [],
      "source": [
        "# Upload label file object-detection.txt to data folder\n",
        "%cd /content/drive/MyDrive/models\n",
        "!pip install -r /content/drive/MyDrive/models/research/MiAI_SSD_TF2/setup.txt\n",
        "!pip install --upgrade opencv-python"
      ]
    },
    {
      "cell_type": "code",
      "execution_count": null,
      "metadata": {
        "colab": {
          "background_save": true
        },
        "id": "8dYN-VjF7LKa"
      },
      "outputs": [],
      "source": [
        "%cd /content/drive/MyDrive/models/research\n",
        "%cp /content/drive/MyDrive/models/research/object_detection/model_main_tf2.py .\n",
        "#train \n",
        "!python model_main_tf2.py \\\n",
        "--pipeline_config_path=/content/drive/MyDrive/pretrained/ssd_mobilenet_v2_fpnlite_320x320_coco17_tpu-8/pipeline.config \\\n",
        "--model_dir=/content/gdrive/MyDrive/output_model --alsologtostderr --num_train_steps=5000\n",
        "     \n"
      ]
    }
  ],
  "metadata": {
    "colab": {
      "provenance": [],
      "mount_file_id": "1tR31zcwi_XAsSLvdD3QvSldMEVBjrcNe",
      "authorship_tag": "ABX9TyNrYz1PNes+ozaGWB8sKXYx",
      "include_colab_link": true
    },
    "kernelspec": {
      "display_name": "Python 3",
      "name": "python3"
    },
    "language_info": {
      "name": "python"
    }
  },
  "nbformat": 4,
  "nbformat_minor": 0
}